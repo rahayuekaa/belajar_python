{
  "nbformat": 4,
  "nbformat_minor": 0,
  "metadata": {
    "colab": {
      "provenance": [],
      "toc_visible": true
    },
    "kernelspec": {
      "name": "python3",
      "display_name": "Python 3"
    },
    "language_info": {
      "name": "python"
    }
  },
  "cells": [
    {
      "cell_type": "markdown",
      "source": [
        "# Source code awal 📝\n",
        "`Berserta penjelasan di tiap source code`"
      ],
      "metadata": {
        "id": "lNWejv6RrcAT"
      }
    },
    {
      "cell_type": "code",
      "source": [
        "odd=[x for x in range(1,100+1) if x %2!=0] \n",
        "squares=[x**2 for x in odd] \n",
        "total=sum(squares) \n",
        "ratarata=total/len(squares) \n",
        "print(total)\n",
        "print(ratarata)"
      ],
      "metadata": {
        "id": "Q4MNFOHXqdJJ",
        "colab": {
          "base_uri": "https://localhost:8080/"
        },
        "outputId": "7392ab36-5da1-4b52-8255-dc6a4de093c7"
      },
      "execution_count": null,
      "outputs": [
        {
          "output_type": "stream",
          "name": "stdout",
          "text": [
            "166650\n",
            "3333.0\n"
          ]
        }
      ]
    },
    {
      "cell_type": "code",
      "source": [
        "a = int(input(\"masukan a= \")) #masukkan angka\n",
        "if a<100: #melakukan pengecekan apakah nilai a kurang dari 100\n",
        "    print('small value') #jika bernilai true maka akan menampilkan small value\n",
        "else:\n",
        "    print('big value') #jika bernilai false maka akan menampilkan big value"
      ],
      "metadata": {
        "colab": {
          "base_uri": "https://localhost:8080/"
        },
        "id": "oMiZmOEoncOi",
        "outputId": "979f1f76-6499-46a6-d5af-73bb0505551f"
      },
      "execution_count": null,
      "outputs": [
        {
          "output_type": "stream",
          "name": "stdout",
          "text": [
            "masukan a= 20\n",
            "small value\n"
          ]
        }
      ]
    },
    {
      "cell_type": "code",
      "source": [
        "while True: #akan terus melakukan perulangan selama kondisi true terpenuhi\n",
        "  a = int(input(\"masukan a= \")) #masukkan nilai a\n",
        "  if a<100: #melakukan pengecekan apakah nilai a < 100\n",
        "    print('small value') # jika bernilai true akan menampilkan small value\n",
        "  else:\n",
        "    print('big value') #jika bernilai false akan menampilkan big value\n",
        "    break"
      ],
      "metadata": {
        "colab": {
          "base_uri": "https://localhost:8080/"
        },
        "id": "fLY43qi9ofrJ",
        "outputId": "ad385311-153c-4530-cd6d-f0866cbd1d39"
      },
      "execution_count": null,
      "outputs": [
        {
          "output_type": "stream",
          "name": "stdout",
          "text": [
            "masukan a= 90\n",
            "small value\n",
            "masukan a= 92\n",
            "small value\n",
            "masukan a= 98\n",
            "small value\n",
            "masukan a= 101\n",
            "big value\n"
          ]
        }
      ]
    },
    {
      "cell_type": "code",
      "source": [
        "pas= input(\"password= \") #masukkan password\n",
        "panjang=len(pas)>=5 #dengan ketentuan akan bernilai True jika panjang password >= 5\n",
        "c8=\"8\" in pas #bernilai True jika password mengandung angka 8\n",
        "cx= \"X\" in pas #bernilai True jika password terdapat karakter \"X\"\n",
        "char=\"@\" in pas #bernilai True jika password terdapat karakter \"@\"\n",
        "\n",
        "#dilakukan pengecekan dari urutan yang paling atas\n",
        "if panjang!=True:\n",
        "    print(\"terlalu pendek\") #jika panjang password kurang dari 5 karakter, maka akan mencetak output \"terlalu pendek\"\n",
        "elif c8!=True:\n",
        "    print(\"harus mengandung 8\") #jika password tidak mengandung angka 8, maka akan mencetak \"harus mengandung 8\"\n",
        "elif cx!=True:\n",
        "    print(\"harus mengandng X\") #jika password tidak mengandung huruf X, maka akan mencetak \"harus mengandung X\"\n",
        "elif char!=True:\n",
        "    print(\"harus mengandng @\") #jika password tidak mengandung karakter @, maka akan mencetak \"harus mengandung @\"\n",
        "else:\n",
        "    print(\"password valid\") #jika password memenuhi semua kondisi maka akan mencetak output \"password valid\""
      ],
      "metadata": {
        "colab": {
          "base_uri": "https://localhost:8080/"
        },
        "id": "cj24khymFFdK",
        "outputId": "66e4ec03-2534-40c7-bd46-00014f541fba"
      },
      "execution_count": null,
      "outputs": [
        {
          "output_type": "stream",
          "name": "stdout",
          "text": [
            "password= kampusmerdeka\n",
            "harus mengandung 8\n"
          ]
        }
      ]
    },
    {
      "cell_type": "code",
      "source": [
        "count=0 #variabel count untuk menyimpan jumlah string yang memenuhi kondisi\n",
        "contoh_list=['acc', 'xyz', 'aba', '121']\n",
        "for i in range(len(contoh_list)):\n",
        "\n",
        "  #arti dari [i][0] adalah membaca karakter pertama\n",
        "  #arti dari [i][-1] adalah membaca karakter yang paling terahkir\n",
        "    if(contoh_list[i][0] == contoh_list[i][-1]): #memeriksa apakah karakter pertama = karakter terakhir\n",
        "        count += 1 #jika bernilai True maka ditambah 1\n",
        "print('jumlah string yg sama=',count) #menampilkan jumlah string yang sama"
      ],
      "metadata": {
        "colab": {
          "base_uri": "https://localhost:8080/"
        },
        "id": "LOs66iMXqnR0",
        "outputId": "2397c6d7-b10e-4929-866a-b9cc9c3f5562"
      },
      "execution_count": null,
      "outputs": [
        {
          "output_type": "stream",
          "name": "stdout",
          "text": [
            "jumlah string yg sama= 2\n"
          ]
        }
      ]
    },
    {
      "cell_type": "code",
      "source": [
        "while True:\n",
        "    kata=input(\"masukan kata= \") #masukkan kata\n",
        "    if kata == kata[::-1]: #tanda :: artinya membaca data dari belakang\n",
        "        print(\"string merupakan palidrom\") #jika bernilai True maka akan menampilkan \"string merupakan palidrom\"\n",
        "        break\n",
        "    else:\n",
        "        print(\"string bukan palidrom\") #jika kata yang dimasukkan bernilai false maka akan menampilkan \"string bukan palidrom\""
      ],
      "metadata": {
        "colab": {
          "base_uri": "https://localhost:8080/"
        },
        "id": "KIAz0YraGEJe",
        "outputId": "d1298e25-69e0-4e1b-8b16-edcdefca5b65"
      },
      "execution_count": null,
      "outputs": [
        {
          "output_type": "stream",
          "name": "stdout",
          "text": [
            "masukan kata= sayur\n",
            "string bukan palidrom\n",
            "masukan kata= ini\n",
            "string merupakan palidrom\n"
          ]
        }
      ]
    },
    {
      "cell_type": "code",
      "source": [
        "def hitung(s): #function untuk menghitung banyaknya huruf besar dan kecil\n",
        "    d={'upper':0,'lower':0} #kondisi awal bernilai 0\n",
        "    for x in s:\n",
        "        if x.isupper(): #untuk memeriksa apakah karakter x huruf kapital\n",
        "            d['upper']+=1 #jika bernilai True maka akan ditambah 1\n",
        "        elif x.islower(): #akan memeriksa apakah karakter x huruf kecil\n",
        "            d['lower']+=1 #jika bernilai True maka akan ditambah 1\n",
        "\n",
        "    print('string kalimat:', s) #menampilkan input kalimat yang disimpan dalam parameter s\n",
        "    print('jumlah huruf kapital:',d['upper']) #mencetak jumlah huruf kapital\n",
        "    print('jumlah huruf kecil',d['lower']) #mencetak jumlah huruf kecil\n",
        "hitung('aAsssSWWWJHSJ') #menjalankan function dengan string sebagai input"
      ],
      "metadata": {
        "id": "79-V6Hg-GzsE",
        "outputId": "e7b1a9df-5abc-4090-e066-d982e78d0458",
        "colab": {
          "base_uri": "https://localhost:8080/"
        }
      },
      "execution_count": null,
      "outputs": [
        {
          "output_type": "stream",
          "name": "stdout",
          "text": [
            "string kalimat: aAsssSWWWJHSJ\n",
            "jumlah huruf kapital: 9\n",
            "jumlah huruf kecil 4\n"
          ]
        }
      ]
    },
    {
      "cell_type": "code",
      "source": [
        "#Kata ganjil\n",
        "list1=[\"ada\",\"sapa\",\"warga\",\"kanopi\",\"layang\",\"tamu\",\"kampus\"] \n",
        "for i in list1: \n",
        "    if len(i)%2==1: #memeriksa panjang apakah panjang string adalah ganjil\n",
        "        print(i,end=\" \")"
      ],
      "metadata": {
        "colab": {
          "base_uri": "https://localhost:8080/"
        },
        "id": "CrkyyQgmGFJR",
        "outputId": "d6ad3e13-6c29-4932-ceee-38ea5c8cfc18"
      },
      "execution_count": null,
      "outputs": [
        {
          "output_type": "stream",
          "name": "stdout",
          "text": [
            "ada warga "
          ]
        }
      ]
    },
    {
      "cell_type": "code",
      "source": [
        "#kata genap\n",
        "list1=[\"ada\",\"sapa\",\"warga\",\"kanopi\",\"layang\",\"tamu\"]\n",
        "for i in list1:\n",
        "    if len(i)%2==0: #memeriksa panjang apakah panjang string adalah genap\n",
        "        print(i,end=\" \")"
      ],
      "metadata": {
        "colab": {
          "base_uri": "https://localhost:8080/"
        },
        "id": "EolCEUTjsQSH",
        "outputId": "d61492b1-6e00-43d3-fae0-cdc5e6354bbf"
      },
      "execution_count": null,
      "outputs": [
        {
          "output_type": "stream",
          "name": "stdout",
          "text": [
            "sapa kanopi layang tamu "
          ]
        }
      ]
    },
    {
      "cell_type": "markdown",
      "source": [
        "#Belajar Python 🚀"
      ],
      "metadata": {
        "id": "1Gr-fA6GsTwj"
      }
    },
    {
      "cell_type": "code",
      "source": [
        "#penggunaan if else untuk mengecek predikat IPK\n",
        "score = float(input(\"Masukan IPK Anda = \"))\n",
        "if score >= 3.5: \n",
        "    print(\"Predikat IPK Anda = Cum Laude\")\n",
        "elif score >= 3.0:\n",
        "    print(\"Predikat IPK Anda = Sangat memuaskan\")\n",
        "elif score >= 2.75:\n",
        "    print(\"Predikat IPK Anda = Memuaskan\")\n",
        "elif score >= 2.0:\n",
        "    print(\"Predikat IPK Anda = Cukup\")\n",
        "else:\n",
        "    print(\"Tidak lulus\")\n"
      ],
      "metadata": {
        "colab": {
          "base_uri": "https://localhost:8080/"
        },
        "id": "y5LT8L1AtZ0U",
        "outputId": "638437c6-ec46-4947-f0a6-548b9c759760"
      },
      "execution_count": null,
      "outputs": [
        {
          "output_type": "stream",
          "name": "stdout",
          "text": [
            "Masukan IPK Anda = 3.9\n",
            "Predikat IPK Anda = Cum Laude\n"
          ]
        }
      ]
    },
    {
      "cell_type": "code",
      "source": [
        "while True: \n",
        "  angka = int(input(\"Masukan Angka= \")) \n",
        "  if angka >=1 and angka <=200: #melakukan pengecekan apakah angka yang diinput >=1 dan <=200\n",
        "    print('Angka valid') \n",
        "  else:\n",
        "    print('Angka Tidak valid') \n",
        "    break"
      ],
      "metadata": {
        "colab": {
          "base_uri": "https://localhost:8080/"
        },
        "id": "zLr1fIXB1xWh",
        "outputId": "512a8862-f2bb-480c-c582-78baa24ad99c"
      },
      "execution_count": null,
      "outputs": [
        {
          "output_type": "stream",
          "name": "stdout",
          "text": [
            "Masukan Angka= 100\n",
            "Angka valid\n",
            "Masukan Angka= 90\n",
            "Angka valid\n",
            "Masukan Angka= 202\n",
            "Angka Tidak valid\n"
          ]
        }
      ]
    },
    {
      "cell_type": "code",
      "source": [
        "#penggunaan if else untuk ketentuan penulisan email\n",
        "email= input(\"Masukkan Email Anda= \") \n",
        "if len(email) < 5: \n",
        "  print('Email terlalu pendek')\n",
        "elif '@' not in email:\n",
        "  print('harus mengandung @')\n",
        "elif '.com' not in email:\n",
        "  print('Ekstensi domain tidak valid')\n",
        "else:\n",
        "  print('Email Valid')\n",
        " "
      ],
      "metadata": {
        "colab": {
          "base_uri": "https://localhost:8080/"
        },
        "id": "JEMXD-sM7HzM",
        "outputId": "52e9bcc9-2dd4-46cc-9a7b-be7e6f9207ac"
      },
      "execution_count": null,
      "outputs": [
        {
          "output_type": "stream",
          "name": "stdout",
          "text": [
            "Masukkan Email Anda= rahayueka123@gmail\n",
            "Ekstensi domain tidak valid\n"
          ]
        }
      ]
    },
    {
      "cell_type": "code",
      "source": [
        "count=0 \n",
        "negara = ['Indonesia', 'Malaysia', 'Thailand', 'China', 'Denmark']\n",
        "for i in range(len(negara)):\n",
        "    if(negara[i][-1] == \"a\"): #[i][-1] artinya memeriksa nama negara apa saja yang berahkiran huruf a\n",
        "        count += 1 \n",
        "print('jumlah negara yang berahkiran huruf a =',count) "
      ],
      "metadata": {
        "colab": {
          "base_uri": "https://localhost:8080/"
        },
        "id": "d7JJOnrTD7_w",
        "outputId": "40693a58-a586-4013-a8ed-b8866b1fcd23"
      },
      "execution_count": null,
      "outputs": [
        {
          "output_type": "stream",
          "name": "stdout",
          "text": [
            "jumlah negara yang berahkiran huruf a = 3\n"
          ]
        }
      ]
    },
    {
      "cell_type": "code",
      "source": [
        "angka = [1,2,3,4,5,6,7,8,9,10]\n",
        "angka_terbalik = angka[::-1] #[::] artinya mengurutkan nilai dari yang paling belakang\n",
        "print(angka_terbalik)"
      ],
      "metadata": {
        "colab": {
          "base_uri": "https://localhost:8080/"
        },
        "id": "YEXuQyX44HCu",
        "outputId": "9b2ac9c7-4b7c-44d5-9269-ec3b7c63026b"
      },
      "execution_count": null,
      "outputs": [
        {
          "output_type": "stream",
          "name": "stdout",
          "text": [
            "[10, 9, 8, 7, 6, 5, 4, 3, 2, 1]\n"
          ]
        }
      ]
    },
    {
      "cell_type": "code",
      "source": [
        "angka = [1,2,3,4,5,6,7,8,9,10]\n",
        "angka_genap = [num for num in angka if num % 2 == 0] #mencari bilangan yang habis jika dibagi 2\n",
        "print(angka_genap)"
      ],
      "metadata": {
        "colab": {
          "base_uri": "https://localhost:8080/"
        },
        "id": "C8drIhmTGN-1",
        "outputId": "c3ea0427-b4b8-4348-a53a-700e6628f6ca"
      },
      "execution_count": null,
      "outputs": [
        {
          "output_type": "stream",
          "name": "stdout",
          "text": [
            "[2, 4, 6, 8, 10]\n"
          ]
        }
      ]
    },
    {
      "cell_type": "code",
      "source": [
        "angka = [1,2,3,4,5,6,7,8,9,10]\n",
        "angka_ganjil = [num for num in angka if num % 2 != 0] #mencari bilangan yang tidak habis jika dibagi 2\n",
        "print(angka_ganjil)"
      ],
      "metadata": {
        "colab": {
          "base_uri": "https://localhost:8080/"
        },
        "id": "r9oVpyJsHKCB",
        "outputId": "04207c7b-ae73-4067-87ec-072c92f3558b"
      },
      "execution_count": null,
      "outputs": [
        {
          "output_type": "stream",
          "name": "stdout",
          "text": [
            "[1, 3, 5, 7, 9]\n"
          ]
        }
      ]
    },
    {
      "cell_type": "code",
      "source": [
        "hewan = [\"Kelinci\", \"Harimau\", \"Ayam\"]\n",
        "jenis = [\"Herbivora\", \"Karnivora\", \"Omnivora\"]\n",
        "\n",
        "for hewan, jenis in zip(hewan, jenis): #zip digunakan untuk menggabungkan dua list\n",
        "  print(f\" {hewan} adalah hewan {jenis}\")"
      ],
      "metadata": {
        "colab": {
          "base_uri": "https://localhost:8080/"
        },
        "id": "p55H4i7SE8aT",
        "outputId": "03d59b7a-02cc-430d-a5b7-827dc89a59fb"
      },
      "execution_count": null,
      "outputs": [
        {
          "output_type": "stream",
          "name": "stdout",
          "text": [
            " Kelinci adalah hewan Herbivora\n",
            " Harimau adalah hewan Karnivora\n",
            " Ayam adalah hewan Omnivora\n"
          ]
        }
      ]
    },
    {
      "cell_type": "code",
      "source": [
        "mahasiswa = {\"nama\": \"rahayu eka fitriani\", \"prodi\": \"sistem informasi\", \"npm\": 20012890123} #dictionary\n",
        "\n",
        "#mengakses dictionary\n",
        "print(mahasiswa[\"nama\"])\n",
        "print(mahasiswa[\"prodi\"])\n",
        "print(mahasiswa[\"npm\"])\n"
      ],
      "metadata": {
        "colab": {
          "base_uri": "https://localhost:8080/"
        },
        "id": "ThAmVuKcsWD9",
        "outputId": "86696f21-7bff-4a80-a6cf-f6af38685ee6"
      },
      "execution_count": null,
      "outputs": [
        {
          "output_type": "stream",
          "name": "stdout",
          "text": [
            "rahayu eka fitriani\n",
            "sistem informasi\n",
            "20012890123\n"
          ]
        }
      ]
    },
    {
      "cell_type": "code",
      "source": [
        "nama = \"Rahayu Eka Fitriani\"\n",
        "print(nama.upper()) #membuat karakter menjadi huruf kapital\n",
        "print(nama.capitalize()) #membuat karakter awal menjadi kapital\n",
        "print(nama.title()) #membuat karakter seperti penulisan judul"
      ],
      "metadata": {
        "colab": {
          "base_uri": "https://localhost:8080/"
        },
        "id": "T4HHR3xfu0x2",
        "outputId": "d56b62eb-e32e-4a70-c28d-bc3eb7923de6"
      },
      "execution_count": null,
      "outputs": [
        {
          "output_type": "stream",
          "name": "stdout",
          "text": [
            "RAHAYU EKA FITRIANI\n",
            "Rahayu eka fitriani\n",
            "Rahayu Eka Fitriani\n"
          ]
        }
      ]
    },
    {
      "cell_type": "code",
      "source": [
        "angka = [20, 25, 15, 50, 25, 10, 20, 25]\n",
        "angka.append(40) #default append untuk menambahkan karakter di belakang\n",
        "print(angka) \n",
        "angka.insert(2,55) #untuk menyisipkan data sesuai dengan indeks yang diinginkan\n",
        "print(angka) \n",
        "print(\"Jumlah angka 25 pada variabel list sebanyak:\", angka.count(25)) #menghitung banyaknya angka/suatu nilai dalam list yang ada\n",
        "angka.remove(10) #menghapus angka yang dipilih \n",
        "print(angka) "
      ],
      "metadata": {
        "colab": {
          "base_uri": "https://localhost:8080/"
        },
        "id": "FxMBP7Zb2Yl1",
        "outputId": "86839abb-64e8-49e3-ab02-9c15c73af2d7"
      },
      "execution_count": null,
      "outputs": [
        {
          "output_type": "stream",
          "name": "stdout",
          "text": [
            "[20, 25, 15, 50, 25, 10, 20, 25, 40]\n",
            "[20, 25, 55, 15, 50, 25, 10, 20, 25, 40]\n",
            "Jumlah angka 25 pada variabel list sebanyak: 3\n",
            "[20, 25, 55, 15, 50, 25, 20, 25, 40]\n"
          ]
        }
      ]
    },
    {
      "cell_type": "code",
      "source": [
        "def luas_segitiga(alas, tinggi):\n",
        "    luas = 0.5 * alas * tinggi\n",
        "    return luas\n",
        "\n",
        "# memanggil fungsi dan memberikan value\n",
        "hasil_luas = luas_segitiga(4, 8)\n",
        "print(hasil_luas) "
      ],
      "metadata": {
        "colab": {
          "base_uri": "https://localhost:8080/"
        },
        "id": "_APLDeu94UVF",
        "outputId": "0628a222-b3f8-45ef-bb92-da4d6f1eafc4"
      },
      "execution_count": null,
      "outputs": [
        {
          "output_type": "stream",
          "name": "stdout",
          "text": [
            "16.0\n"
          ]
        }
      ]
    },
    {
      "cell_type": "code",
      "source": [
        "kilometer = float(input(\"Masukkan bilangan yang ingin dikonversi: \"))\n",
        "#konversi kilometer ke meter\n",
        "meter = kilometer * 1000\n",
        "#menampilkan hasil konversi\n",
        "print(f\"{kilometer} kilometer = {meter} meter\")"
      ],
      "metadata": {
        "colab": {
          "base_uri": "https://localhost:8080/"
        },
        "id": "ihwyX8tv4coO",
        "outputId": "46857b1b-5cd4-4cf1-8ce0-14226a7a3419"
      },
      "execution_count": null,
      "outputs": [
        {
          "output_type": "stream",
          "name": "stdout",
          "text": [
            "Masukkan bilangan yang ingin dikonversi: 70\n",
            "70.0 kilometer = 70000.0 meter\n"
          ]
        }
      ]
    },
    {
      "cell_type": "code",
      "source": [
        "kmph = float(input(\"Masukkan angka yang ingin dikonversi: \"))\n",
        "\n",
        "#konversi km/jam ke m/s, dengan cara membagi angka dengan 3.6 agar dapat dikonversi ke m/s\n",
        "kmps = kmph / 3.6\n",
        "\n",
        "#menampilkan hasil konversi\n",
        "print(f\"{kmph} km/jam = {kmps} m/s\")"
      ],
      "metadata": {
        "colab": {
          "base_uri": "https://localhost:8080/"
        },
        "id": "pDsLdipd4zgw",
        "outputId": "544a98cd-0d99-40a2-9507-60157ea636c5"
      },
      "execution_count": 2,
      "outputs": [
        {
          "output_type": "stream",
          "name": "stdout",
          "text": [
            "Masukkan angka yang ingin dikonversi: 72\n",
            "72.0 km/jam = 20.0 m/s\n"
          ]
        }
      ]
    },
    {
      "cell_type": "code",
      "source": [
        "hari = int(input(\"Masukkan jumlah hari yang ingin dikonversi: \"))\n",
        "#konversi hari ke jam\n",
        "jam = hari * 24\n",
        "#menampilkan hasil konversi\n",
        "print(f\"{hari} hari = {jam} jam\")"
      ],
      "metadata": {
        "colab": {
          "base_uri": "https://localhost:8080/"
        },
        "id": "omgnWmiZ5Gue",
        "outputId": "cd58048a-f335-431f-db07-3ff56d9286eb"
      },
      "execution_count": 1,
      "outputs": [
        {
          "output_type": "stream",
          "name": "stdout",
          "text": [
            "Masukkan jumlah hari yang ingin dikonversi: 14\n",
            "14 hari = 336 jam\n"
          ]
        }
      ]
    },
    {
      "cell_type": "code",
      "source": [
        "#penggunaan tuple\n",
        "my_tuple = (5, -1, 2, 9, -3, 4, 7, 10, -1)\n",
        "print(min(my_tuple)) #menampilkan output angka paling kecil (min)\n",
        "print(max(my_tuple)) #menampilkan output angka paling besar (max)\n",
        "print(len(my_tuple)) #menampilkan panjang tuple\n",
        "print(my_tuple.count(-1)) #menampilkan jumlah tuple yang bernilai -1"
      ],
      "metadata": {
        "colab": {
          "base_uri": "https://localhost:8080/"
        },
        "id": "T9tRmLLDR67E",
        "outputId": "1e52f747-3279-4341-e85e-e25f311f7bd7"
      },
      "execution_count": 8,
      "outputs": [
        {
          "output_type": "stream",
          "name": "stdout",
          "text": [
            "-3\n",
            "10\n",
            "9\n",
            "2\n"
          ]
        }
      ]
    }
  ]
}